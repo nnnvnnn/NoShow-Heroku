{
 "cells": [
  {
   "cell_type": "code",
   "execution_count": 1,
   "id": "8388989e",
   "metadata": {},
   "outputs": [],
   "source": [
    "import joblib\n",
    "import sqlite3\n",
    "import numpy as np\n",
    "import pandas as pd\n",
    "from xgboost import XGBClassifier\n",
    "from lightgbm import LGBMClassifier\n",
    "from sklearn.feature_selection import RFE\n",
    "from sklearn.tree import DecisionTreeClassifier\n",
    "from sklearn.neural_network import MLPClassifier\n",
    "from sklearn.neighbors import KNeighborsClassifier\n",
    "from sklearn.ensemble import RandomForestClassifier\n",
    "from sklearn.model_selection import train_test_split, RandomizedSearchCV\n",
    "from sklearn.metrics import accuracy_score, confusion_matrix, classification_report"
   ]
  },
  {
   "cell_type": "code",
   "execution_count": 2,
   "id": "f8ae20f9",
   "metadata": {},
   "outputs": [],
   "source": [
    "conn = sqlite3.connect('noshow.db')\n",
    "df = pd.read_sql_query(\"SELECT * FROM noshow\", conn)"
   ]
  },
  {
   "cell_type": "code",
   "execution_count": 3,
   "id": "1e047af3",
   "metadata": {},
   "outputs": [],
   "source": [
    "df=df.drop(columns=['index'])\n",
    "df =df.rename(columns={\"room_President Suite\": \"room_President_Suite\"})\n",
    "df['num_children'] =  df['num_children'].astype('int64')"
   ]
  },
  {
   "cell_type": "code",
   "execution_count": 4,
   "id": "29b85c43",
   "metadata": {},
   "outputs": [
    {
     "data": {
      "text/html": [
       "<div>\n",
       "<style scoped>\n",
       "    .dataframe tbody tr th:only-of-type {\n",
       "        vertical-align: middle;\n",
       "    }\n",
       "\n",
       "    .dataframe tbody tr th {\n",
       "        vertical-align: top;\n",
       "    }\n",
       "\n",
       "    .dataframe thead th {\n",
       "        text-align: right;\n",
       "    }\n",
       "</style>\n",
       "<table border=\"1\" class=\"dataframe\">\n",
       "  <thead>\n",
       "    <tr style=\"text-align: right;\">\n",
       "      <th></th>\n",
       "      <th>no_show</th>\n",
       "      <th>first_time</th>\n",
       "      <th>num_adults</th>\n",
       "      <th>num_children</th>\n",
       "      <th>SGD_amount</th>\n",
       "      <th>branch_Changi</th>\n",
       "      <th>branch_Orchard</th>\n",
       "      <th>country_Australia</th>\n",
       "      <th>country_China</th>\n",
       "      <th>country_India</th>\n",
       "      <th>...</th>\n",
       "      <th>room_King</th>\n",
       "      <th>room_President_Suite</th>\n",
       "      <th>room_Queen</th>\n",
       "      <th>room_Single</th>\n",
       "      <th>platform_Agent</th>\n",
       "      <th>platform_Email</th>\n",
       "      <th>platform_Phone</th>\n",
       "      <th>platform_Website</th>\n",
       "      <th>book_duration</th>\n",
       "      <th>stay_duration</th>\n",
       "    </tr>\n",
       "    <tr>\n",
       "      <th>booking_id</th>\n",
       "      <th></th>\n",
       "      <th></th>\n",
       "      <th></th>\n",
       "      <th></th>\n",
       "      <th></th>\n",
       "      <th></th>\n",
       "      <th></th>\n",
       "      <th></th>\n",
       "      <th></th>\n",
       "      <th></th>\n",
       "      <th></th>\n",
       "      <th></th>\n",
       "      <th></th>\n",
       "      <th></th>\n",
       "      <th></th>\n",
       "      <th></th>\n",
       "      <th></th>\n",
       "      <th></th>\n",
       "      <th></th>\n",
       "      <th></th>\n",
       "      <th></th>\n",
       "    </tr>\n",
       "  </thead>\n",
       "  <tbody>\n",
       "    <tr>\n",
       "      <th>94113</th>\n",
       "      <td>0</td>\n",
       "      <td>1</td>\n",
       "      <td>1</td>\n",
       "      <td>0</td>\n",
       "      <td>492.980000</td>\n",
       "      <td>1</td>\n",
       "      <td>0</td>\n",
       "      <td>0</td>\n",
       "      <td>0</td>\n",
       "      <td>0</td>\n",
       "      <td>...</td>\n",
       "      <td>0</td>\n",
       "      <td>0</td>\n",
       "      <td>0</td>\n",
       "      <td>1</td>\n",
       "      <td>0</td>\n",
       "      <td>0</td>\n",
       "      <td>0</td>\n",
       "      <td>1</td>\n",
       "      <td>7</td>\n",
       "      <td>2</td>\n",
       "    </tr>\n",
       "    <tr>\n",
       "      <th>86543</th>\n",
       "      <td>0</td>\n",
       "      <td>1</td>\n",
       "      <td>2</td>\n",
       "      <td>0</td>\n",
       "      <td>1351.220000</td>\n",
       "      <td>0</td>\n",
       "      <td>1</td>\n",
       "      <td>0</td>\n",
       "      <td>0</td>\n",
       "      <td>0</td>\n",
       "      <td>...</td>\n",
       "      <td>1</td>\n",
       "      <td>0</td>\n",
       "      <td>0</td>\n",
       "      <td>0</td>\n",
       "      <td>0</td>\n",
       "      <td>0</td>\n",
       "      <td>0</td>\n",
       "      <td>1</td>\n",
       "      <td>3</td>\n",
       "      <td>1</td>\n",
       "    </tr>\n",
       "    <tr>\n",
       "      <th>75928</th>\n",
       "      <td>0</td>\n",
       "      <td>1</td>\n",
       "      <td>1</td>\n",
       "      <td>0</td>\n",
       "      <td>0.000000</td>\n",
       "      <td>1</td>\n",
       "      <td>0</td>\n",
       "      <td>0</td>\n",
       "      <td>0</td>\n",
       "      <td>1</td>\n",
       "      <td>...</td>\n",
       "      <td>0</td>\n",
       "      <td>0</td>\n",
       "      <td>0</td>\n",
       "      <td>1</td>\n",
       "      <td>1</td>\n",
       "      <td>0</td>\n",
       "      <td>0</td>\n",
       "      <td>0</td>\n",
       "      <td>11</td>\n",
       "      <td>4</td>\n",
       "    </tr>\n",
       "    <tr>\n",
       "      <th>66947</th>\n",
       "      <td>1</td>\n",
       "      <td>1</td>\n",
       "      <td>1</td>\n",
       "      <td>0</td>\n",
       "      <td>666.040000</td>\n",
       "      <td>0</td>\n",
       "      <td>1</td>\n",
       "      <td>0</td>\n",
       "      <td>1</td>\n",
       "      <td>0</td>\n",
       "      <td>...</td>\n",
       "      <td>0</td>\n",
       "      <td>0</td>\n",
       "      <td>0</td>\n",
       "      <td>1</td>\n",
       "      <td>0</td>\n",
       "      <td>0</td>\n",
       "      <td>0</td>\n",
       "      <td>1</td>\n",
       "      <td>0</td>\n",
       "      <td>2</td>\n",
       "    </tr>\n",
       "    <tr>\n",
       "      <th>106390</th>\n",
       "      <td>0</td>\n",
       "      <td>1</td>\n",
       "      <td>1</td>\n",
       "      <td>0</td>\n",
       "      <td>931.504906</td>\n",
       "      <td>0</td>\n",
       "      <td>1</td>\n",
       "      <td>1</td>\n",
       "      <td>0</td>\n",
       "      <td>0</td>\n",
       "      <td>...</td>\n",
       "      <td>0</td>\n",
       "      <td>0</td>\n",
       "      <td>1</td>\n",
       "      <td>0</td>\n",
       "      <td>0</td>\n",
       "      <td>0</td>\n",
       "      <td>0</td>\n",
       "      <td>1</td>\n",
       "      <td>3</td>\n",
       "      <td>4</td>\n",
       "    </tr>\n",
       "    <tr>\n",
       "      <th>...</th>\n",
       "      <td>...</td>\n",
       "      <td>...</td>\n",
       "      <td>...</td>\n",
       "      <td>...</td>\n",
       "      <td>...</td>\n",
       "      <td>...</td>\n",
       "      <td>...</td>\n",
       "      <td>...</td>\n",
       "      <td>...</td>\n",
       "      <td>...</td>\n",
       "      <td>...</td>\n",
       "      <td>...</td>\n",
       "      <td>...</td>\n",
       "      <td>...</td>\n",
       "      <td>...</td>\n",
       "      <td>...</td>\n",
       "      <td>...</td>\n",
       "      <td>...</td>\n",
       "      <td>...</td>\n",
       "      <td>...</td>\n",
       "      <td>...</td>\n",
       "    </tr>\n",
       "    <tr>\n",
       "      <th>56220</th>\n",
       "      <td>0</td>\n",
       "      <td>1</td>\n",
       "      <td>2</td>\n",
       "      <td>1</td>\n",
       "      <td>0.000000</td>\n",
       "      <td>0</td>\n",
       "      <td>1</td>\n",
       "      <td>0</td>\n",
       "      <td>1</td>\n",
       "      <td>0</td>\n",
       "      <td>...</td>\n",
       "      <td>1</td>\n",
       "      <td>0</td>\n",
       "      <td>0</td>\n",
       "      <td>0</td>\n",
       "      <td>0</td>\n",
       "      <td>0</td>\n",
       "      <td>0</td>\n",
       "      <td>1</td>\n",
       "      <td>7</td>\n",
       "      <td>1</td>\n",
       "    </tr>\n",
       "    <tr>\n",
       "      <th>4823</th>\n",
       "      <td>0</td>\n",
       "      <td>1</td>\n",
       "      <td>1</td>\n",
       "      <td>1</td>\n",
       "      <td>857.039953</td>\n",
       "      <td>1</td>\n",
       "      <td>0</td>\n",
       "      <td>0</td>\n",
       "      <td>1</td>\n",
       "      <td>0</td>\n",
       "      <td>...</td>\n",
       "      <td>1</td>\n",
       "      <td>0</td>\n",
       "      <td>0</td>\n",
       "      <td>0</td>\n",
       "      <td>0</td>\n",
       "      <td>0</td>\n",
       "      <td>0</td>\n",
       "      <td>1</td>\n",
       "      <td>7</td>\n",
       "      <td>2</td>\n",
       "    </tr>\n",
       "    <tr>\n",
       "      <th>25062</th>\n",
       "      <td>0</td>\n",
       "      <td>1</td>\n",
       "      <td>2</td>\n",
       "      <td>0</td>\n",
       "      <td>1457.785508</td>\n",
       "      <td>0</td>\n",
       "      <td>1</td>\n",
       "      <td>0</td>\n",
       "      <td>1</td>\n",
       "      <td>0</td>\n",
       "      <td>...</td>\n",
       "      <td>1</td>\n",
       "      <td>0</td>\n",
       "      <td>0</td>\n",
       "      <td>0</td>\n",
       "      <td>0</td>\n",
       "      <td>1</td>\n",
       "      <td>0</td>\n",
       "      <td>0</td>\n",
       "      <td>9</td>\n",
       "      <td>4</td>\n",
       "    </tr>\n",
       "    <tr>\n",
       "      <th>81936</th>\n",
       "      <td>1</td>\n",
       "      <td>1</td>\n",
       "      <td>1</td>\n",
       "      <td>2</td>\n",
       "      <td>898.045376</td>\n",
       "      <td>1</td>\n",
       "      <td>0</td>\n",
       "      <td>0</td>\n",
       "      <td>0</td>\n",
       "      <td>0</td>\n",
       "      <td>...</td>\n",
       "      <td>1</td>\n",
       "      <td>0</td>\n",
       "      <td>0</td>\n",
       "      <td>0</td>\n",
       "      <td>0</td>\n",
       "      <td>1</td>\n",
       "      <td>0</td>\n",
       "      <td>0</td>\n",
       "      <td>6</td>\n",
       "      <td>1</td>\n",
       "    </tr>\n",
       "    <tr>\n",
       "      <th>99643</th>\n",
       "      <td>0</td>\n",
       "      <td>1</td>\n",
       "      <td>1</td>\n",
       "      <td>2</td>\n",
       "      <td>901.950000</td>\n",
       "      <td>1</td>\n",
       "      <td>0</td>\n",
       "      <td>0</td>\n",
       "      <td>0</td>\n",
       "      <td>1</td>\n",
       "      <td>...</td>\n",
       "      <td>1</td>\n",
       "      <td>0</td>\n",
       "      <td>0</td>\n",
       "      <td>0</td>\n",
       "      <td>0</td>\n",
       "      <td>0</td>\n",
       "      <td>0</td>\n",
       "      <td>1</td>\n",
       "      <td>4</td>\n",
       "      <td>8</td>\n",
       "    </tr>\n",
       "  </tbody>\n",
       "</table>\n",
       "<p>97778 rows × 24 columns</p>\n",
       "</div>"
      ],
      "text/plain": [
       "            no_show  first_time  num_adults  num_children   SGD_amount  \\\n",
       "booking_id                                                               \n",
       "94113             0           1           1             0   492.980000   \n",
       "86543             0           1           2             0  1351.220000   \n",
       "75928             0           1           1             0     0.000000   \n",
       "66947             1           1           1             0   666.040000   \n",
       "106390            0           1           1             0   931.504906   \n",
       "...             ...         ...         ...           ...          ...   \n",
       "56220             0           1           2             1     0.000000   \n",
       "4823              0           1           1             1   857.039953   \n",
       "25062             0           1           2             0  1457.785508   \n",
       "81936             1           1           1             2   898.045376   \n",
       "99643             0           1           1             2   901.950000   \n",
       "\n",
       "            branch_Changi  branch_Orchard  country_Australia  country_China  \\\n",
       "booking_id                                                                    \n",
       "94113                   1               0                  0              0   \n",
       "86543                   0               1                  0              0   \n",
       "75928                   1               0                  0              0   \n",
       "66947                   0               1                  0              1   \n",
       "106390                  0               1                  1              0   \n",
       "...                   ...             ...                ...            ...   \n",
       "56220                   0               1                  0              1   \n",
       "4823                    1               0                  0              1   \n",
       "25062                   0               1                  0              1   \n",
       "81936                   1               0                  0              0   \n",
       "99643                   1               0                  0              0   \n",
       "\n",
       "            country_India  ...  room_King  room_President_Suite  room_Queen  \\\n",
       "booking_id                 ...                                                \n",
       "94113                   0  ...          0                     0           0   \n",
       "86543                   0  ...          1                     0           0   \n",
       "75928                   1  ...          0                     0           0   \n",
       "66947                   0  ...          0                     0           0   \n",
       "106390                  0  ...          0                     0           1   \n",
       "...                   ...  ...        ...                   ...         ...   \n",
       "56220                   0  ...          1                     0           0   \n",
       "4823                    0  ...          1                     0           0   \n",
       "25062                   0  ...          1                     0           0   \n",
       "81936                   0  ...          1                     0           0   \n",
       "99643                   1  ...          1                     0           0   \n",
       "\n",
       "            room_Single  platform_Agent  platform_Email  platform_Phone  \\\n",
       "booking_id                                                                \n",
       "94113                 1               0               0               0   \n",
       "86543                 0               0               0               0   \n",
       "75928                 1               1               0               0   \n",
       "66947                 1               0               0               0   \n",
       "106390                0               0               0               0   \n",
       "...                 ...             ...             ...             ...   \n",
       "56220                 0               0               0               0   \n",
       "4823                  0               0               0               0   \n",
       "25062                 0               0               1               0   \n",
       "81936                 0               0               1               0   \n",
       "99643                 0               0               0               0   \n",
       "\n",
       "            platform_Website  book_duration  stay_duration  \n",
       "booking_id                                                  \n",
       "94113                      1              7              2  \n",
       "86543                      1              3              1  \n",
       "75928                      0             11              4  \n",
       "66947                      1              0              2  \n",
       "106390                     1              3              4  \n",
       "...                      ...            ...            ...  \n",
       "56220                      1              7              1  \n",
       "4823                       1              7              2  \n",
       "25062                      0              9              4  \n",
       "81936                      0              6              1  \n",
       "99643                      1              4              8  \n",
       "\n",
       "[97778 rows x 24 columns]"
      ]
     },
     "execution_count": 4,
     "metadata": {},
     "output_type": "execute_result"
    }
   ],
   "source": [
    "df.set_index('booking_id')"
   ]
  },
  {
   "cell_type": "code",
   "execution_count": 5,
   "id": "b71ebc4a",
   "metadata": {},
   "outputs": [
    {
     "name": "stdout",
     "output_type": "stream",
     "text": [
      "<class 'pandas.core.frame.DataFrame'>\n",
      "RangeIndex: 97778 entries, 0 to 97777\n",
      "Data columns (total 25 columns):\n",
      " #   Column                Non-Null Count  Dtype  \n",
      "---  ------                --------------  -----  \n",
      " 0   booking_id            97778 non-null  object \n",
      " 1   no_show               97778 non-null  int64  \n",
      " 2   first_time            97778 non-null  int64  \n",
      " 3   num_adults            97778 non-null  int64  \n",
      " 4   num_children          97778 non-null  int64  \n",
      " 5   SGD_amount            97778 non-null  float64\n",
      " 6   branch_Changi         97778 non-null  int64  \n",
      " 7   branch_Orchard        97778 non-null  int64  \n",
      " 8   country_Australia     97778 non-null  int64  \n",
      " 9   country_China         97778 non-null  int64  \n",
      " 10  country_India         97778 non-null  int64  \n",
      " 11  country_Indonesia     97778 non-null  int64  \n",
      " 12  country_Japan         97778 non-null  int64  \n",
      " 13  country_Malaysia      97778 non-null  int64  \n",
      " 14  country_Singapore     97778 non-null  int64  \n",
      " 15  room_King             97778 non-null  int64  \n",
      " 16  room_President_Suite  97778 non-null  int64  \n",
      " 17  room_Queen            97778 non-null  int64  \n",
      " 18  room_Single           97778 non-null  int64  \n",
      " 19  platform_Agent        97778 non-null  int64  \n",
      " 20  platform_Email        97778 non-null  int64  \n",
      " 21  platform_Phone        97778 non-null  int64  \n",
      " 22  platform_Website      97778 non-null  int64  \n",
      " 23  book_duration         97778 non-null  int64  \n",
      " 24  stay_duration         97778 non-null  int64  \n",
      "dtypes: float64(1), int64(23), object(1)\n",
      "memory usage: 18.6+ MB\n"
     ]
    }
   ],
   "source": [
    "df.info()"
   ]
  },
  {
   "cell_type": "markdown",
   "id": "aac5ce72",
   "metadata": {},
   "source": [
    "<h1>Assigning x, y</h1>"
   ]
  },
  {
   "cell_type": "code",
   "execution_count": 6,
   "id": "806057d3",
   "metadata": {},
   "outputs": [],
   "source": [
    "x = df.loc[:, ['first_time', 'num_adults', 'num_children', 'SGD_amount', \n",
    "               'branch_Changi', 'branch_Orchard', 'country_Australia','country_China','country_India',\n",
    "               'country_Indonesia','country_Japan','country_Malaysia','country_Singapore',\n",
    "               'room_King', 'room_President_Suite', 'room_Queen', 'room_Single',\n",
    "               'platform_Agent', 'platform_Email', 'platform_Phone', 'platform_Website',\n",
    "               'book_duration', 'stay_duration']]\n",
    "y = df.loc[:,'no_show']"
   ]
  },
  {
   "cell_type": "code",
   "execution_count": 7,
   "id": "1cde13ec",
   "metadata": {},
   "outputs": [
    {
     "data": {
      "text/plain": [
       "((97778, 23), (97778,))"
      ]
     },
     "execution_count": 7,
     "metadata": {},
     "output_type": "execute_result"
    }
   ],
   "source": [
    "x.shape, y.shape"
   ]
  },
  {
   "cell_type": "code",
   "execution_count": 8,
   "id": "eb200ac9",
   "metadata": {},
   "outputs": [],
   "source": [
    "x_train, x_test, y_train, y_test = train_test_split(x, y, test_size = 0.30, random_state=40)"
   ]
  },
  {
   "cell_type": "markdown",
   "id": "a561988d",
   "metadata": {},
   "source": [
    "<h2>Model1: XGBoost</h2>"
   ]
  },
  {
   "cell_type": "code",
   "execution_count": 9,
   "id": "7875f118",
   "metadata": {},
   "outputs": [
    {
     "name": "stderr",
     "output_type": "stream",
     "text": [
      "C:\\Users\\joevi\\anaconda3\\lib\\site-packages\\xgboost\\sklearn.py:1224: UserWarning: The use of label encoder in XGBClassifier is deprecated and will be removed in a future release. To remove this warning, do the following: 1) Pass option use_label_encoder=False when constructing XGBClassifier object; and 2) Encode your labels (y) as integers starting with 0, i.e. 0, 1, 2, ..., [num_class - 1].\n",
      "  warnings.warn(label_encoder_deprecation_msg, UserWarning)\n"
     ]
    },
    {
     "name": "stdout",
     "output_type": "stream",
     "text": [
      "[14:15:25] WARNING: C:/Users/Administrator/workspace/xgboost-win64_release_1.5.1/src/learner.cc:1115: Starting in XGBoost 1.3.0, the default evaluation metric used with the objective 'binary:logistic' was changed from 'error' to 'logloss'. Explicitly set eval_metric if you'd like to restore the old behavior.\n"
     ]
    },
    {
     "data": {
      "text/plain": [
       "XGBClassifier(base_score=0.5, booster='gbtree', colsample_bylevel=1,\n",
       "              colsample_bynode=1, colsample_bytree=1, enable_categorical=False,\n",
       "              gamma=0, gpu_id=-1, importance_type=None,\n",
       "              interaction_constraints='', learning_rate=0.005, max_delta_step=0,\n",
       "              max_depth=8, min_child_weight=1, missing=nan,\n",
       "              monotone_constraints='()', n_estimators=180, n_jobs=4,\n",
       "              num_parallel_tree=1, predictor='auto', random_state=40,\n",
       "              reg_alpha=0, reg_lambda=1, scale_pos_weight=1, subsample=1,\n",
       "              tree_method='exact', validate_parameters=1, verbosity=None)"
      ]
     },
     "execution_count": 9,
     "metadata": {},
     "output_type": "execute_result"
    }
   ],
   "source": [
    "xgb = XGBClassifier(booster = 'gbtree', learning_rate = 0.005,max_depth = 8, n_estimators = 180, random_state=40)\n",
    "xgb.fit(x_train, y_train)"
   ]
  },
  {
   "cell_type": "code",
   "execution_count": 10,
   "id": "1b6ecb6c",
   "metadata": {},
   "outputs": [
    {
     "name": "stdout",
     "output_type": "stream",
     "text": [
      "Accuracy Score of XGBoost is : 0.7355628281175428\n",
      "F1 Score of XGBoost is : 0.7014084983883397\n",
      "\n",
      "Confusion Matrix : \n",
      "[[15749  2606]\n",
      " [ 5151  5828]]\n",
      "\n",
      "Classification Report : \n",
      "              precision    recall  f1-score   support\n",
      "\n",
      "           0       0.75      0.86      0.80     18355\n",
      "           1       0.69      0.53      0.60     10979\n",
      "\n",
      "    accuracy                           0.74     29334\n",
      "   macro avg       0.72      0.69      0.70     29334\n",
      "weighted avg       0.73      0.74      0.73     29334\n",
      "\n"
     ]
    }
   ],
   "source": [
    "y_pred_xgb = xgb.predict(x_test)\n",
    "\n",
    "accuracy_xgb = accuracy_score(y_test, y_pred_xgb)\n",
    "cm_xgb = confusion_matrix(y_test, y_pred_xgb)\n",
    "clf_report_xgb = classification_report(y_test, y_pred_xgb)\n",
    "report_xgb = classification_report(y_test, y_pred_xgb,output_dict=True)\n",
    "f1_xgb = report_xgb['macro avg']['f1-score']\n",
    "\n",
    "print(f\"Accuracy Score of XGBoost is : {accuracy_xgb}\")\n",
    "print(f\"F1 Score of XGBoost is : {f1_xgb}\")\n",
    "print(f\"\\nConfusion Matrix : \\n{cm_xgb}\")\n",
    "print(f\"\\nClassification Report : \\n{clf_report_xgb}\")"
   ]
  },
  {
   "cell_type": "code",
   "execution_count": 11,
   "id": "449aabae",
   "metadata": {},
   "outputs": [
    {
     "data": {
      "text/plain": [
       "['xgboost']"
      ]
     },
     "execution_count": 11,
     "metadata": {},
     "output_type": "execute_result"
    }
   ],
   "source": [
    "joblib.dump(xgb,\"xgboost\")"
   ]
  },
  {
   "cell_type": "markdown",
   "id": "9c0655c3",
   "metadata": {},
   "source": [
    "<h2>Model 2: LGBM Classifier</h2>"
   ]
  },
  {
   "cell_type": "code",
   "execution_count": 12,
   "id": "db90abc6",
   "metadata": {},
   "outputs": [],
   "source": [
    "lgbm = LGBMClassifier(learning_rate = 1)\n",
    "num_leaves = [31, 51, 71, 91, 111, 200, 500]\n",
    "max_depth = [-1, 50, 100, 150, 200, 300, 500]\n",
    "learning_rate = [0.01, 0.05, 0.1, 0.5, 1.0]\n",
    "reg_alpha = [0.0, 0.25, 0.5, 0.75, 1.0]\n",
    "reg_lambda = [0.0, 0.5, 1.0]\n",
    "\n",
    "lgbm_params = {\"num_leaves\" : num_leaves,\n",
    "               \"max_depth\" : max_depth,\n",
    "               \"learning_rate\" : learning_rate,\n",
    "               \"reg_alpha\" : reg_alpha,\n",
    "               \"reg_lambda\" : reg_lambda\n",
    "               }\n",
    "\n",
    "rscv_lgbm = RandomizedSearchCV(lgbm, \n",
    "                               lgbm_params, \n",
    "                               n_iter=10, \n",
    "                               scoring='accuracy', \n",
    "                               n_jobs=-1, \n",
    "                               cv=3, \n",
    "                               random_state=40, \n",
    "                               verbose=4)"
   ]
  },
  {
   "cell_type": "code",
   "execution_count": 13,
   "id": "36fd59b3",
   "metadata": {},
   "outputs": [
    {
     "name": "stdout",
     "output_type": "stream",
     "text": [
      "Fitting 3 folds for each of 10 candidates, totalling 30 fits\n"
     ]
    },
    {
     "data": {
      "text/plain": [
       "RandomizedSearchCV(cv=3, estimator=LGBMClassifier(learning_rate=1), n_jobs=-1,\n",
       "                   param_distributions={'learning_rate': [0.01, 0.05, 0.1, 0.5,\n",
       "                                                          1.0],\n",
       "                                        'max_depth': [-1, 50, 100, 150, 200,\n",
       "                                                      300, 500],\n",
       "                                        'num_leaves': [31, 51, 71, 91, 111, 200,\n",
       "                                                       500],\n",
       "                                        'reg_alpha': [0.0, 0.25, 0.5, 0.75,\n",
       "                                                      1.0],\n",
       "                                        'reg_lambda': [0.0, 0.5, 1.0]},\n",
       "                   random_state=40, scoring='accuracy', verbose=4)"
      ]
     },
     "execution_count": 13,
     "metadata": {},
     "output_type": "execute_result"
    }
   ],
   "source": [
    "rscv_lgbm.fit(x_train, y_train)"
   ]
  },
  {
   "cell_type": "code",
   "execution_count": 14,
   "id": "81355cba",
   "metadata": {},
   "outputs": [],
   "source": [
    "lgbm_clf_best = rscv_lgbm.best_estimator_"
   ]
  },
  {
   "cell_type": "code",
   "execution_count": 15,
   "id": "3c2d5ff6",
   "metadata": {},
   "outputs": [
    {
     "data": {
      "text/plain": [
       "LGBMClassifier(learning_rate=0.05, max_depth=300, num_leaves=111,\n",
       "               reg_alpha=0.75, reg_lambda=0.5)"
      ]
     },
     "execution_count": 15,
     "metadata": {},
     "output_type": "execute_result"
    }
   ],
   "source": [
    "lgbm_clf_best.fit(x_train, y_train)"
   ]
  },
  {
   "cell_type": "code",
   "execution_count": 16,
   "id": "02e30381",
   "metadata": {},
   "outputs": [],
   "source": [
    "lgbm= LGBMClassifier(learning_rate=0.05, max_depth=300, num_leaves=111,\n",
    "               reg_alpha=0.75, reg_lambda=0.5)"
   ]
  },
  {
   "cell_type": "code",
   "execution_count": 17,
   "id": "1a95570c",
   "metadata": {},
   "outputs": [
    {
     "data": {
      "text/plain": [
       "LGBMClassifier(learning_rate=0.05, max_depth=300, num_leaves=111,\n",
       "               reg_alpha=0.75, reg_lambda=0.5)"
      ]
     },
     "execution_count": 17,
     "metadata": {},
     "output_type": "execute_result"
    }
   ],
   "source": [
    "lgbm.fit(x_train, y_train)"
   ]
  },
  {
   "cell_type": "code",
   "execution_count": 18,
   "id": "8c7aead1",
   "metadata": {},
   "outputs": [
    {
     "name": "stdout",
     "output_type": "stream",
     "text": [
      "Accuracy Score of LGBM is : 0.7372673348332992\n",
      "F1 Score of LGBM is : 0.7028207647107683\n",
      "\n",
      "Confusion Matrix : \n",
      "[[15807  2548]\n",
      " [ 5159  5820]]\n",
      "\n",
      "Classification Report : \n",
      "              precision    recall  f1-score   support\n",
      "\n",
      "           0       0.75      0.86      0.80     18355\n",
      "           1       0.70      0.53      0.60     10979\n",
      "\n",
      "    accuracy                           0.74     29334\n",
      "   macro avg       0.72      0.70      0.70     29334\n",
      "weighted avg       0.73      0.74      0.73     29334\n",
      "\n"
     ]
    }
   ],
   "source": [
    "y_pred_lgbm = lgbm.predict(x_test)\n",
    "\n",
    "accuracy_lgbm = accuracy_score(y_test, y_pred_lgbm)\n",
    "cm_lgbm = confusion_matrix(y_test, y_pred_lgbm)\n",
    "clf_report_lgbm = classification_report(y_test, y_pred_lgbm)\n",
    "report_lgbm = classification_report(y_test, y_pred_lgbm,output_dict=True)\n",
    "f1_lgbm = report_lgbm['macro avg']['f1-score']\n",
    "\n",
    "\n",
    "print(f\"Accuracy Score of LGBM is : {accuracy_lgbm}\")\n",
    "print(f\"F1 Score of LGBM is : {f1_lgbm}\")\n",
    "print(f\"\\nConfusion Matrix : \\n{cm_lgbm}\")\n",
    "print(f\"\\nClassification Report : \\n{clf_report_lgbm}\")"
   ]
  },
  {
   "cell_type": "code",
   "execution_count": 19,
   "id": "1de461a7",
   "metadata": {},
   "outputs": [
    {
     "data": {
      "text/plain": [
       "['lgbm']"
      ]
     },
     "execution_count": 19,
     "metadata": {},
     "output_type": "execute_result"
    }
   ],
   "source": [
    "joblib.dump(lgbm,\"lgbm\")"
   ]
  },
  {
   "cell_type": "markdown",
   "id": "5522c8ea",
   "metadata": {},
   "source": [
    "<h2>Model 3: Decision Tree</h2>"
   ]
  },
  {
   "cell_type": "code",
   "execution_count": 20,
   "id": "9b4f46c8",
   "metadata": {},
   "outputs": [
    {
     "data": {
      "text/plain": [
       "DecisionTreeClassifier(criterion='entropy', max_depth=6, random_state=40)"
      ]
     },
     "execution_count": 20,
     "metadata": {},
     "output_type": "execute_result"
    }
   ],
   "source": [
    "dt = DecisionTreeClassifier(max_depth=6, random_state=40,criterion='entropy')\n",
    "dt.fit(x_train,y_train)"
   ]
  },
  {
   "cell_type": "code",
   "execution_count": 21,
   "id": "74dccae0",
   "metadata": {},
   "outputs": [
    {
     "name": "stdout",
     "output_type": "stream",
     "text": [
      "Accuracy Score of Decision Tree is : 0.7348810254312402\n",
      "F1 Score of Decision Tree is : 0.6985063888700913\n",
      "\n",
      "Confusion Matrix : \n",
      "[[15873  2482]\n",
      " [ 5295  5684]]\n",
      "\n",
      "Classification Report : \n",
      "              precision    recall  f1-score   support\n",
      "\n",
      "           0       0.75      0.86      0.80     18355\n",
      "           1       0.70      0.52      0.59     10979\n",
      "\n",
      "    accuracy                           0.73     29334\n",
      "   macro avg       0.72      0.69      0.70     29334\n",
      "weighted avg       0.73      0.73      0.72     29334\n",
      "\n"
     ]
    }
   ],
   "source": [
    "y_pred_dt = dt.predict(x_test)\n",
    "\n",
    "accuracy_dt = accuracy_score(y_test, y_pred_dt)\n",
    "cm_dt = confusion_matrix(y_test, y_pred_dt)\n",
    "clf_report_dt = classification_report(y_test, y_pred_dt)\n",
    "report_dt = classification_report(y_test, y_pred_dt,output_dict=True)\n",
    "f1_dt = report_dt['macro avg']['f1-score']\n",
    "\n",
    "print(f\"Accuracy Score of Decision Tree is : {accuracy_dt}\")\n",
    "print(f\"F1 Score of Decision Tree is : {f1_dt}\")\n",
    "print(f\"\\nConfusion Matrix : \\n{cm_dt}\")\n",
    "print(f\"\\nClassification Report : \\n{clf_report_dt}\")"
   ]
  },
  {
   "cell_type": "code",
   "execution_count": 22,
   "id": "ebf12a76",
   "metadata": {},
   "outputs": [
    {
     "data": {
      "text/plain": [
       "['decisiontree']"
      ]
     },
     "execution_count": 22,
     "metadata": {},
     "output_type": "execute_result"
    }
   ],
   "source": [
    "joblib.dump(dt,\"decisiontree\")"
   ]
  },
  {
   "cell_type": "markdown",
   "id": "2072c8a0",
   "metadata": {},
   "source": [
    "<h2>Method 4: Random Forest with feature selector</h2>"
   ]
  },
  {
   "cell_type": "code",
   "execution_count": 23,
   "id": "a24bd793",
   "metadata": {},
   "outputs": [
    {
     "name": "stdout",
     "output_type": "stream",
     "text": [
      "Fitting estimator with 23 features.\n"
     ]
    },
    {
     "name": "stderr",
     "output_type": "stream",
     "text": [
      "C:\\Users\\joevi\\anaconda3\\lib\\site-packages\\sklearn\\utils\\validation.py:70: FutureWarning: Pass n_features_to_select=20 as keyword args. From version 1.0 (renaming of 0.25) passing these as positional arguments will result in an error\n",
      "  warnings.warn(f\"Pass {args_msg} as keyword args. From version \"\n"
     ]
    },
    {
     "name": "stdout",
     "output_type": "stream",
     "text": [
      "Fitting estimator with 22 features.\n",
      "Fitting estimator with 21 features.\n"
     ]
    },
    {
     "data": {
      "text/plain": [
       "RFE(estimator=RandomForestClassifier(), n_features_to_select=20, verbose=3)"
      ]
     },
     "execution_count": 23,
     "metadata": {},
     "output_type": "execute_result"
    }
   ],
   "source": [
    "rf = RandomForestClassifier()\n",
    "feature_selector = RFE(rf, 20, verbose=3)\n",
    "feature_selector.fit(x, y)"
   ]
  },
  {
   "cell_type": "code",
   "execution_count": 24,
   "id": "9f7c65e0",
   "metadata": {},
   "outputs": [],
   "source": [
    "important_features = x.columns[feature_selector.support_]\n",
    "x_imp = x[important_features]"
   ]
  },
  {
   "cell_type": "code",
   "execution_count": 25,
   "id": "97864bbd",
   "metadata": {},
   "outputs": [
    {
     "data": {
      "text/plain": [
       "RandomForestClassifier()"
      ]
     },
     "execution_count": 25,
     "metadata": {},
     "output_type": "execute_result"
    }
   ],
   "source": [
    "x_train, x_test, y_train, y_test = train_test_split(x_imp, y, test_size=0.3, random_state=40)\n",
    "rf.fit(x_train, y_train)"
   ]
  },
  {
   "cell_type": "code",
   "execution_count": 26,
   "id": "5dd0dc73",
   "metadata": {},
   "outputs": [
    {
     "name": "stdout",
     "output_type": "stream",
     "text": [
      "Accuracy Score of Random Forest is : 0.6780186813936047\n",
      "F1 Score of Random Forest is : 0.6451719783574186\n",
      "\n",
      "Confusion Matrix : \n",
      "[[14407  3948]\n",
      " [ 5497  5482]]\n",
      "\n",
      "Classification Report : \n",
      "              precision    recall  f1-score   support\n",
      "\n",
      "           0       0.72      0.78      0.75     18355\n",
      "           1       0.58      0.50      0.54     10979\n",
      "\n",
      "    accuracy                           0.68     29334\n",
      "   macro avg       0.65      0.64      0.65     29334\n",
      "weighted avg       0.67      0.68      0.67     29334\n",
      "\n"
     ]
    }
   ],
   "source": [
    "y_pred_rf = rf.predict(x_test)\n",
    "\n",
    "accuracy_rf = accuracy_score(y_test, y_pred_rf)\n",
    "cm_rf = confusion_matrix(y_test, y_pred_rf)\n",
    "clf_report_rf = classification_report(y_test, y_pred_rf)\n",
    "report_rf = classification_report(y_test, y_pred_rf,output_dict=True)\n",
    "f1_rf = report_rf['macro avg']['f1-score']\n",
    "\n",
    "print(f\"Accuracy Score of Random Forest is : {accuracy_rf}\")\n",
    "print(f\"F1 Score of Random Forest is : {f1_rf}\")\n",
    "print(f\"\\nConfusion Matrix : \\n{cm_rf}\")\n",
    "print(f\"\\nClassification Report : \\n{clf_report_rf}\")"
   ]
  },
  {
   "cell_type": "code",
   "execution_count": 27,
   "id": "20bc799f",
   "metadata": {},
   "outputs": [
    {
     "data": {
      "text/plain": [
       "['randomforest']"
      ]
     },
     "execution_count": 27,
     "metadata": {},
     "output_type": "execute_result"
    }
   ],
   "source": [
    "joblib.dump(rf,\"randomforest\")"
   ]
  },
  {
   "cell_type": "markdown",
   "id": "153a41b8",
   "metadata": {},
   "source": [
    "<h2>Model 5: Neural Network</h2>"
   ]
  },
  {
   "cell_type": "code",
   "execution_count": 28,
   "id": "3fa6e58f",
   "metadata": {},
   "outputs": [],
   "source": [
    "x_train, x_test, y_train, y_test = train_test_split(x, y, test_size = 0.30, random_state=40)"
   ]
  },
  {
   "cell_type": "code",
   "execution_count": 29,
   "id": "d18b6454",
   "metadata": {},
   "outputs": [
    {
     "name": "stderr",
     "output_type": "stream",
     "text": [
      "C:\\Users\\joevi\\anaconda3\\lib\\site-packages\\sklearn\\neural_network\\_multilayer_perceptron.py:500: ConvergenceWarning: lbfgs failed to converge (status=1):\n",
      "STOP: TOTAL NO. of ITERATIONS REACHED LIMIT.\n",
      "\n",
      "Increase the number of iterations (max_iter) or scale the data as shown in:\n",
      "    https://scikit-learn.org/stable/modules/preprocessing.html\n",
      "  self.n_iter_ = _check_optimize_result(\"lbfgs\", opt_res, self.max_iter)\n"
     ]
    },
    {
     "data": {
      "text/plain": [
       "MLPClassifier(hidden_layer_sizes=(5, 5), solver='lbfgs')"
      ]
     },
     "execution_count": 29,
     "metadata": {},
     "output_type": "execute_result"
    }
   ],
   "source": [
    "nn = MLPClassifier(solver=\"lbfgs\", hidden_layer_sizes = (5,5))\n",
    "nn.fit(x,y)"
   ]
  },
  {
   "cell_type": "code",
   "execution_count": 30,
   "id": "07713722",
   "metadata": {},
   "outputs": [],
   "source": [
    "y_pred_nn = nn.predict(x_test)\n",
    "\n",
    "\n"
   ]
  },
  {
   "cell_type": "code",
   "execution_count": 31,
   "id": "f05e7715",
   "metadata": {},
   "outputs": [
    {
     "name": "stdout",
     "output_type": "stream",
     "text": [
      "Accuracy Score of Neural Network (MLP Classfier) is : 0.6527919820004091\n",
      "F1 Score of Neural Network is : 0.49865735903937886\n",
      "\n",
      "\n",
      "Confusion Matrix : \n",
      "[[17707   648]\n",
      " [ 9537  1442]]\n",
      "\n",
      "Classification Report : \n",
      "              precision    recall  f1-score   support\n",
      "\n",
      "           0       0.65      0.96      0.78     18355\n",
      "           1       0.69      0.13      0.22     10979\n",
      "\n",
      "    accuracy                           0.65     29334\n",
      "   macro avg       0.67      0.55      0.50     29334\n",
      "weighted avg       0.66      0.65      0.57     29334\n",
      "\n"
     ]
    }
   ],
   "source": [
    "accuracy_nn = accuracy_score(y_test, y_pred_nn)\n",
    "cm_nn = confusion_matrix(y_test, y_pred_nn)\n",
    "clf_report_nn = classification_report(y_test, y_pred_nn)\n",
    "report_nn = classification_report(y_test, y_pred_nn,output_dict=True)\n",
    "f1_nn = report_nn['macro avg']['f1-score']\n",
    "\n",
    "\n",
    "print(f\"Accuracy Score of Neural Network (MLP Classfier) is : {accuracy_nn}\")\n",
    "print(f\"F1 Score of Neural Network is : {f1_nn}\")\n",
    "print(f\"\\n\\nConfusion Matrix : \\n{cm_nn}\")\n",
    "print(f\"\\nClassification Report : \\n{clf_report_nn}\")\n"
   ]
  },
  {
   "cell_type": "code",
   "execution_count": 32,
   "id": "52abf372",
   "metadata": {},
   "outputs": [
    {
     "data": {
      "text/plain": [
       "['neural']"
      ]
     },
     "execution_count": 32,
     "metadata": {},
     "output_type": "execute_result"
    }
   ],
   "source": [
    "joblib.dump(nn,\"neural\")"
   ]
  },
  {
   "cell_type": "markdown",
   "id": "7c32c07a",
   "metadata": {},
   "source": [
    "<h2>Conclusion</h2>"
   ]
  },
  {
   "cell_type": "code",
   "execution_count": 33,
   "id": "578b527e",
   "metadata": {},
   "outputs": [
    {
     "name": "stdout",
     "output_type": "stream",
     "text": [
      "1. Accuracy Score of XGBoost is : 0.7355628281175428\n",
      "2. Accuracy Score of LGBM is : 0.7372673348332992\n",
      "3. Accuracy Score of Decision Tree is : 0.7348810254312402\n",
      "4. Accuracy Score of Random Forest is : 0.6780186813936047\n",
      "5. Accuracy Score of Neural Network (MLP Classfier) is : 0.6527919820004091\n"
     ]
    }
   ],
   "source": [
    "#Re-posting all 5 models' accuracy:\n",
    "print(f\"1. Accuracy Score of XGBoost is : {accuracy_xgb}\")\n",
    "print(f\"2. Accuracy Score of LGBM is : {accuracy_lgbm}\")\n",
    "print(f\"3. Accuracy Score of Decision Tree is : {accuracy_dt}\")\n",
    "print(f\"4. Accuracy Score of Random Forest is : {accuracy_rf}\")\n",
    "print(f\"5. Accuracy Score of Neural Network (MLP Classfier) is : {accuracy_nn}\")\n",
    "\n",
    "#The selected 3 models to use are 1. XGBoost 2. LGBM 3. Decision Tree"
   ]
  },
  {
   "cell_type": "code",
   "execution_count": 34,
   "id": "8b58e3a9",
   "metadata": {},
   "outputs": [
    {
     "data": {
      "text/plain": [
       "Index(['first_time', 'num_adults', 'num_children', 'SGD_amount',\n",
       "       'branch_Changi', 'branch_Orchard', 'country_Australia', 'country_China',\n",
       "       'country_India', 'country_Indonesia', 'country_Japan',\n",
       "       'country_Malaysia', 'country_Singapore', 'room_King',\n",
       "       'room_President_Suite', 'room_Queen', 'room_Single', 'platform_Agent',\n",
       "       'platform_Email', 'platform_Phone', 'platform_Website', 'book_duration',\n",
       "       'stay_duration'],\n",
       "      dtype='object')"
      ]
     },
     "execution_count": 34,
     "metadata": {},
     "output_type": "execute_result"
    }
   ],
   "source": [
    "x.columns"
   ]
  },
  {
   "cell_type": "code",
   "execution_count": 37,
   "id": "f7960d0a",
   "metadata": {},
   "outputs": [],
   "source": [
    "models = pd.DataFrame({\n",
    "    'Model' : ['XGBoost', 'LightGBM', 'Decision Tree','Random Forest', 'Neural Network'],\n",
    "    'Accuracy' : [accuracy_xgb, accuracy_lgbm, accuracy_dt, accuracy_rf, accuracy_nn],\n",
    "    'F1 score': [f1_xgb, f1_lgbm, f1_dt, f1_rf, f1_nn]\n",
    "})\n"
   ]
  },
  {
   "cell_type": "code",
   "execution_count": 38,
   "id": "b83d5e36",
   "metadata": {},
   "outputs": [
    {
     "data": {
      "text/html": [
       "<div>\n",
       "<style scoped>\n",
       "    .dataframe tbody tr th:only-of-type {\n",
       "        vertical-align: middle;\n",
       "    }\n",
       "\n",
       "    .dataframe tbody tr th {\n",
       "        vertical-align: top;\n",
       "    }\n",
       "\n",
       "    .dataframe thead th {\n",
       "        text-align: right;\n",
       "    }\n",
       "</style>\n",
       "<table border=\"1\" class=\"dataframe\">\n",
       "  <thead>\n",
       "    <tr style=\"text-align: right;\">\n",
       "      <th></th>\n",
       "      <th>Model</th>\n",
       "      <th>Accuracy</th>\n",
       "      <th>F1 score</th>\n",
       "    </tr>\n",
       "  </thead>\n",
       "  <tbody>\n",
       "    <tr>\n",
       "      <th>1</th>\n",
       "      <td>LightGBM</td>\n",
       "      <td>0.737267</td>\n",
       "      <td>0.702821</td>\n",
       "    </tr>\n",
       "    <tr>\n",
       "      <th>0</th>\n",
       "      <td>XGBoost</td>\n",
       "      <td>0.735563</td>\n",
       "      <td>0.701408</td>\n",
       "    </tr>\n",
       "    <tr>\n",
       "      <th>2</th>\n",
       "      <td>Decision Tree</td>\n",
       "      <td>0.734881</td>\n",
       "      <td>0.698506</td>\n",
       "    </tr>\n",
       "    <tr>\n",
       "      <th>3</th>\n",
       "      <td>Random Forest</td>\n",
       "      <td>0.678019</td>\n",
       "      <td>0.645172</td>\n",
       "    </tr>\n",
       "    <tr>\n",
       "      <th>4</th>\n",
       "      <td>Neural Network</td>\n",
       "      <td>0.652792</td>\n",
       "      <td>0.498657</td>\n",
       "    </tr>\n",
       "  </tbody>\n",
       "</table>\n",
       "</div>"
      ],
      "text/plain": [
       "            Model  Accuracy  F1 score\n",
       "1        LightGBM  0.737267  0.702821\n",
       "0         XGBoost  0.735563  0.701408\n",
       "2   Decision Tree  0.734881  0.698506\n",
       "3   Random Forest  0.678019  0.645172\n",
       "4  Neural Network  0.652792  0.498657"
      ]
     },
     "execution_count": 38,
     "metadata": {},
     "output_type": "execute_result"
    }
   ],
   "source": [
    "models.sort_values(by = 'Accuracy', ascending = False)"
   ]
  },
  {
   "cell_type": "code",
   "execution_count": 41,
   "id": "e082aa12",
   "metadata": {},
   "outputs": [
    {
     "data": {
      "text/html": [
       "<div>\n",
       "<style scoped>\n",
       "    .dataframe tbody tr th:only-of-type {\n",
       "        vertical-align: middle;\n",
       "    }\n",
       "\n",
       "    .dataframe tbody tr th {\n",
       "        vertical-align: top;\n",
       "    }\n",
       "\n",
       "    .dataframe thead th {\n",
       "        text-align: right;\n",
       "    }\n",
       "</style>\n",
       "<table border=\"1\" class=\"dataframe\">\n",
       "  <thead>\n",
       "    <tr style=\"text-align: right;\">\n",
       "      <th></th>\n",
       "      <th>Model</th>\n",
       "      <th>Accuracy</th>\n",
       "      <th>F1 score</th>\n",
       "    </tr>\n",
       "  </thead>\n",
       "  <tbody>\n",
       "    <tr>\n",
       "      <th>1</th>\n",
       "      <td>LightGBM</td>\n",
       "      <td>0.737267</td>\n",
       "      <td>0.702821</td>\n",
       "    </tr>\n",
       "    <tr>\n",
       "      <th>0</th>\n",
       "      <td>XGBoost</td>\n",
       "      <td>0.735563</td>\n",
       "      <td>0.701408</td>\n",
       "    </tr>\n",
       "    <tr>\n",
       "      <th>2</th>\n",
       "      <td>Decision Tree</td>\n",
       "      <td>0.734881</td>\n",
       "      <td>0.698506</td>\n",
       "    </tr>\n",
       "    <tr>\n",
       "      <th>3</th>\n",
       "      <td>Random Forest</td>\n",
       "      <td>0.678019</td>\n",
       "      <td>0.645172</td>\n",
       "    </tr>\n",
       "    <tr>\n",
       "      <th>4</th>\n",
       "      <td>Neural Network</td>\n",
       "      <td>0.652792</td>\n",
       "      <td>0.498657</td>\n",
       "    </tr>\n",
       "  </tbody>\n",
       "</table>\n",
       "</div>"
      ],
      "text/plain": [
       "            Model  Accuracy  F1 score\n",
       "1        LightGBM  0.737267  0.702821\n",
       "0         XGBoost  0.735563  0.701408\n",
       "2   Decision Tree  0.734881  0.698506\n",
       "3   Random Forest  0.678019  0.645172\n",
       "4  Neural Network  0.652792  0.498657"
      ]
     },
     "execution_count": 41,
     "metadata": {},
     "output_type": "execute_result"
    }
   ],
   "source": [
    "models.sort_values(by = 'F1 score', ascending = False)"
   ]
  },
  {
   "cell_type": "code",
   "execution_count": null,
   "id": "7e3ea49b",
   "metadata": {},
   "outputs": [],
   "source": []
  }
 ],
 "metadata": {
  "kernelspec": {
   "display_name": "Python 3 (ipykernel)",
   "language": "python",
   "name": "python3"
  },
  "language_info": {
   "codemirror_mode": {
    "name": "ipython",
    "version": 3
   },
   "file_extension": ".py",
   "mimetype": "text/x-python",
   "name": "python",
   "nbconvert_exporter": "python",
   "pygments_lexer": "ipython3",
   "version": "3.9.7"
  }
 },
 "nbformat": 4,
 "nbformat_minor": 5
}
